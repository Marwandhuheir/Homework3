{
 "cells": [
  {
   "cell_type": "markdown",
   "metadata": {},
   "source": [
    "## Analysis of a Coronavirus Diagnostic Test"
   ]
  },
  {
   "cell_type": "markdown",
   "metadata": {},
   "source": [
    "### Scenario:     \n",
    "Consider a human population that may or may not have chronic disease (chronic disease is True or False) and a coronavirus test returns positive or negative (Test is Positive or Negative)."
   ]
  },
  {
   "cell_type": "markdown",
   "metadata": {},
   "source": [
    "### Problem:\n",
    "If a randomly selected a patient that has the test and it comes back positive, what is the probability that the patient has chronic disease?"
   ]
  },
  {
   "cell_type": "markdown",
   "metadata": {},
   "source": [
    "### Manual Calculation\n",
    "In this case, we will contrive a sensitivity value for the test. The test is good, but not great, with a true positive rate or sensitivity of 85%. That is, of all the people who have chronic disease and are tested, 85% of them will get a positive result from the test. \n",
    "\n",
    "- P(Test=Positive | chronic disease=True) = 0.85\n",
    "\n",
    "In this case, we can assume the probability of chronic disease is low, and use a contrived base rate value of one person in 5,000, or (0.0002) 0.02%.\n",
    "\n",
    "- P(chronic disease=True) = 0.02%.\n",
    "\n",
    "Let’s map our scenario onto the equation:\n",
    "P(A) = P(chronic disease=True)\n",
    "P(B) = P(Test=Positive)\n",
    "P(B) = P(B|A) * P(A) + P(B|not A) * P(not A)\n",
    "P(Test=Positive) = P(Test=Positive|chronic disease=True) * P(chronic disease=True) + P(Test=Positive|chronic disease=False) * P(chronic disease=False)\n",
    "\n",
    "Suppose that 95% of people without chronic disease will get a negative test result. \n",
    "This means that P(Test=Negative | chronic disease=False) = 0.95 \n",
    "\n",
    "P(A|B) = P(B|A) * P(A) / P(B)\n",
    "P(chronic disease=True | Test=Positive) = P(Test=Positive|chronic disease=True) * P(chronic disease=True) / P(Test=Positive)\n",
    "\n",
    "P(chronic disease=True | Test=Positive) = 0.85 * 0.0002 / P(Test=Positive)\n",
    "\n",
    "We don’t know P(Test=Positive), it’s not given directly.\n",
    "\n",
    "P(chronic disease = False) = 1 – P(chronic disease = True) = 1 – 0.0002 = 0.9998\n",
    "\n",
    "\n",
    "Let’s plugin what we have:\n",
    "\n",
    "P(Test=Positive) = 0.85 * 0.0002 + P(Test=Positive|chronic disease = False) * 0.9998\n",
    "\n",
    "\n",
    "With this final piece of information, we can calculate the false positive or false alarm rate as the complement of the true negative rate.\n",
    "\n",
    "P(Test=Positive|chronic disease = False) = 1 – P(Test=Negative | chronic disease = False) = 1 – 0.95 = 0.05 \n",
    "                              \n",
    "                              \n",
    "We can plug this false alarm rate into our calculation of P(Test=Positive) as follows:\n",
    "\n",
    "P(Test=Positive) = 0.85 * 0.0002 + 0.05 * 0.9998\n",
    "P(Test=Positive) = 0.00017 + 0.04999\n",
    "P(Test=Positive) = 0.05016\n",
    "We now have enough information to calculate Bayes Theorem and estimate the probability of a randomly selected person having chronic disease if they get a positive test result.\n",
    "\n",
    "P(chronic disease=True | Test=Positive) = P(Test=Positive|chronic disease=True) * P(chronic disease=True) / P(Test=Positive)\n",
    "P(chronic disease=True | Test=Positive) = 0.85 * 0.0002 / 0.05016\n",
    "P(chronic disease=True | Test=Positive) = 0.00017 / 0.05016\n",
    "P(chronic disease=True | Test=Positive) = 0.003389154704944"
   ]
  },
  {
   "cell_type": "markdown",
   "metadata": {},
   "source": [
    "### Python Code Calculation"
   ]
  },
  {
   "cell_type": "code",
   "execution_count": 1,
   "metadata": {},
   "outputs": [
    {
     "name": "stdout",
     "output_type": "stream",
     "text": [
      "P(A|B) = 0.003\n"
     ]
    }
   ],
   "source": [
    "# calculate the probability of chronic disease patient and diagnostic test\n",
    "\n",
    "# calculate P(A|B) given P(A), P(B|A), P(B|not A)\n",
    "def bayes_theorem(p_a, p_b_given_a, p_b_given_not_a):\n",
    "\t# calculate P(not A)\n",
    "\tnot_a = 1 - p_a\n",
    "\t# calculate P(B)\n",
    "\tp_b = p_b_given_a * p_a + p_b_given_not_a * not_a\n",
    "\t# calculate P(A|B)\n",
    "\tp_a_given_b = (p_b_given_a * p_a) / p_b\n",
    "\treturn p_a_given_b\n",
    "\n",
    "# P(A)\n",
    "p_a = 0.0002\n",
    "# P(B|A)\n",
    "p_b_given_a = 0.85\n",
    "# P(B|not A)\n",
    "p_b_given_not_a = 0.05\n",
    "# calculate P(A|B)\n",
    "result = bayes_theorem(p_a, p_b_given_a, p_b_given_not_a)\n",
    "# summarize\n",
    "print('P(A|B) = %.3f'  %(result ))"
   ]
  },
  {
   "cell_type": "code",
   "execution_count": null,
   "metadata": {},
   "outputs": [],
   "source": []
  }
 ],
 "metadata": {
  "kernelspec": {
   "display_name": "Python 3",
   "language": "python",
   "name": "python3"
  },
  "language_info": {
   "codemirror_mode": {
    "name": "ipython",
    "version": 3
   },
   "file_extension": ".py",
   "mimetype": "text/x-python",
   "name": "python",
   "nbconvert_exporter": "python",
   "pygments_lexer": "ipython3",
   "version": "3.7.6"
  }
 },
 "nbformat": 4,
 "nbformat_minor": 4
}
